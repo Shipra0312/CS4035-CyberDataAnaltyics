{
 "cells": [
  {
   "cell_type": "code",
   "execution_count": 112,
   "metadata": {},
   "outputs": [],
   "source": [
    "import pandas as pd\n",
    "from sklearn.metrics.pairwise import cosine_similarity\n",
    "from array import array\n",
    "import matplotlib.pyplot as plt\n",
    "import numpy as np"
   ]
  },
  {
   "cell_type": "code",
   "execution_count": 113,
   "metadata": {},
   "outputs": [],
   "source": [
    "#function to create dataframe for the different files created\n",
    "def create_dataframe(name):\n",
    "    filename = name\n",
    "    with open(filename) as f:\n",
    "        data = f.read()\n",
    "    #splitting every row with a new line\n",
    "    data = data.split('\\n') \n",
    "    col = [data[i] for i in range(0,len(data))]\n",
    "    df_temp = pd.DataFrame({'Calls': col})\n",
    "    #splitting columns on the basis of ','\n",
    "    df = df_temp['Calls'].str.split(',').apply(pd.Series)\n",
    "    #using only the first 10 PEs for visualizations and comparisons\n",
    "    df = df[:10]\n",
    "    return(df)"
   ]
  },
  {
   "cell_type": "code",
   "execution_count": 114,
   "metadata": {},
   "outputs": [
    {
     "name": "stdout",
     "output_type": "stream",
     "text": [
      "  0     1     2     3     4     5     6     7     8     9      ... 22751  \\\n",
      "0   0.0   0.0   0.0   0.0   0.0   0.0   0.0   0.0   1.0   0.0  ...   0.0   \n",
      "1   0.0   0.0   0.0   0.0   0.0   0.0   0.0   0.0   1.0   0.0  ...   0.0   \n",
      "2   1.0   0.0   0.0   0.0   0.0   0.0   0.0   0.0   1.0   0.0  ...   0.0   \n",
      "3   0.0   0.0   0.0   0.0   0.0   0.0   0.0   0.0   1.0   0.0  ...   0.0   \n",
      "4   0.0   0.0   0.0   0.0   0.0   0.0   0.0   0.0   1.0   0.0  ...   0.0   \n",
      "5   1.0   1.0   0.0   0.0   0.0   0.0   0.0   0.0   1.0   0.0  ...   0.0   \n",
      "6   1.0   0.0   0.0   0.0   0.0   0.0   0.0   0.0   1.0   0.0  ...   0.0   \n",
      "7   0.0   0.0   0.0   0.0   0.0   0.0   0.0   0.0   1.0   0.0  ...   0.0   \n",
      "8   0.0   0.0   0.0   0.0   0.0   0.0   0.0   0.0   1.0   0.0  ...   0.0   \n",
      "9   1.0   1.0   1.0   1.0   0.0   1.0   1.0   1.0   1.0   1.0  ...   0.0   \n",
      "\n",
      "  22752 22753 22754 22755 22756 22757 22758 22759 22760  \n",
      "0   0.0   0.0   0.0   0.0   0.0   0.0   0.0   0.0   0.0  \n",
      "1   0.0   0.0   0.0   0.0   0.0   0.0   0.0   0.0   0.0  \n",
      "2   0.0   0.0   0.0   0.0   0.0   0.0   0.0   0.0   0.0  \n",
      "3   0.0   0.0   0.0   0.0   0.0   0.0   0.0   0.0   0.0  \n",
      "4   0.0   0.0   0.0   0.0   0.0   0.0   0.0   0.0   0.0  \n",
      "5   0.0   0.0   0.0   0.0   0.0   0.0   0.0   0.0   0.0  \n",
      "6   0.0   0.0   0.0   0.0   0.0   0.0   0.0   0.0   0.0  \n",
      "7   0.0   0.0   0.0   0.0   0.0   0.0   0.0   0.0   0.0  \n",
      "8   0.0   0.0   0.0   0.0   0.0   0.0   0.0   0.0   0.0  \n",
      "9   0.0   0.0   0.0   0.0   0.0   0.0   0.0   0.0   0.0  \n",
      "\n",
      "[10 rows x 22761 columns]\n"
     ]
    }
   ],
   "source": [
    "#benign dataframe\n",
    "benign_df = create_dataframe('benign')\n",
    "print (benign_df)"
   ]
  },
  {
   "cell_type": "code",
   "execution_count": 149,
   "metadata": {},
   "outputs": [
    {
     "name": "stdout",
     "output_type": "stream",
     "text": [
      "  0     1     2     3     4     5     6     7     8     9      ... 22751  \\\n",
      "0   0.0   0.0   0.0   0.0   0.0   0.0   0.0   0.0   1.0   0.0  ...   0.0   \n",
      "1   0.0   0.0   0.0   0.0   1.0   0.0   0.0   0.0   1.0   0.0  ...   0.0   \n",
      "2   1.0   0.0   0.0   0.0   0.0   1.0   0.0   1.0   1.0   1.0  ...   0.0   \n",
      "3   0.0   0.0   0.0   1.0   0.0   0.0   0.0   0.0   1.0   0.0  ...   0.0   \n",
      "4   1.0   0.0   0.0   0.0   0.0   0.0   0.0   1.0   1.0   0.0  ...   0.0   \n",
      "5   0.0   0.0   0.0   0.0   0.0   0.0   0.0   0.0   1.0   0.0  ...   0.0   \n",
      "6   1.0   1.0   0.0   0.0   0.0   0.0   0.0   0.0   1.0   0.0  ...   0.0   \n",
      "7   1.0   0.0   0.0   0.0   0.0   0.0   0.0   1.0   1.0   0.0  ...   0.0   \n",
      "8   0.0   0.0   0.0   0.0   0.0   0.0   0.0   0.0   0.0   0.0  ...   0.0   \n",
      "9   0.0   0.0   0.0   0.0   0.0   0.0   0.0   0.0   1.0   0.0  ...   0.0   \n",
      "\n",
      "  22752 22753 22754 22755 22756 22757 22758 22759 22760  \n",
      "0   0.0   0.0   0.0   0.0   0.0   0.0   0.0   0.0   0.0  \n",
      "1   0.0   0.0   0.0   0.0   0.0   0.0   0.0   0.0   0.0  \n",
      "2   0.0   0.0   0.0   0.0   0.0   0.0   0.0   0.0   0.0  \n",
      "3   0.0   0.0   0.0   0.0   0.0   0.0   0.0   0.0   0.0  \n",
      "4   0.0   0.0   0.0   0.0   0.0   0.0   0.0   0.0   0.0  \n",
      "5   0.0   0.0   0.0   0.0   0.0   0.0   0.0   0.0   0.0  \n",
      "6   0.0   0.0   0.0   0.0   0.0   0.0   0.0   0.0   0.0  \n",
      "7   0.0   0.0   0.0   0.0   0.0   0.0   0.0   0.0   0.0  \n",
      "8   0.0   0.0   0.0   0.0   0.0   0.0   0.0   0.0   0.0  \n",
      "9   0.0   0.0   0.0   0.0   0.0   0.0   0.0   0.0   0.0  \n",
      "\n",
      "[10 rows x 22761 columns]\n"
     ]
    }
   ],
   "source": [
    "malicious_df = create_dataframe('malicious-before')\n",
    "print(malicious_df)"
   ]
  },
  {
   "cell_type": "code",
   "execution_count": 150,
   "metadata": {},
   "outputs": [
    {
     "name": "stdout",
     "output_type": "stream",
     "text": [
      "  0     1     2     3     4     5     6     7     8     9      ... 22751  \\\n",
      "0   1.0   0.0   0.0   0.0   0.0   0.0   0.0   1.0   1.0   1.0  ...   0.0   \n",
      "1   0.0   1.0   0.0   0.0   1.0   0.0   0.0   1.0   1.0   0.0  ...   0.0   \n",
      "2   1.0   0.0   1.0   0.0   1.0   1.0   1.0   1.0   1.0   1.0  ...   0.0   \n",
      "3   0.0   0.0   0.0   1.0   0.0   1.0   0.0   0.0   1.0   0.0  ...   0.0   \n",
      "4   1.0   0.0   0.0   0.0   0.0   0.0   0.0   1.0   1.0   0.0  ...   0.0   \n",
      "5   0.0   0.0   0.0   0.0   0.0   0.0   0.0   0.0   1.0   0.0  ...   0.0   \n",
      "6   1.0   1.0   0.0   0.0   0.0   0.0   0.0   0.0   1.0   0.0  ...   0.0   \n",
      "7   1.0   0.0   0.0   0.0   0.0   0.0   0.0   1.0   1.0   0.0  ...   0.0   \n",
      "8   0.0   0.0   0.0   0.0   0.0   0.0   0.0   0.0   0.0   0.0  ...   0.0   \n",
      "9   0.0   0.0   0.0   0.0   0.0   0.0   0.0   0.0   1.0   0.0  ...   0.0   \n",
      "\n",
      "  22752 22753 22754 22755 22756 22757 22758 22759 22760  \n",
      "0   1.0   0.0   0.0   1.0   1.0   0.0   0.0   1.0   1.0  \n",
      "1   0.0   1.0   0.0   1.0   0.0   0.0   0.0   0.0   0.0  \n",
      "2   0.0   0.0   1.0   0.0   0.0   0.0   0.0   0.0   0.0  \n",
      "3   0.0   0.0   0.0   0.0   0.0   0.0   0.0   0.0   0.0  \n",
      "4   0.0   0.0   0.0   0.0   0.0   0.0   0.0   0.0   0.0  \n",
      "5   0.0   0.0   0.0   0.0   0.0   0.0   0.0   0.0   0.0  \n",
      "6   0.0   0.0   0.0   0.0   0.0   0.0   0.0   0.0   0.0  \n",
      "7   0.0   0.0   0.0   0.0   0.0   0.0   0.0   0.0   0.0  \n",
      "8   0.0   0.0   0.0   0.0   0.0   0.0   0.0   0.0   0.0  \n",
      "9   0.0   0.0   0.0   0.0   0.0   0.0   0.0   0.0   0.0  \n",
      "\n",
      "[10 rows x 22761 columns]\n"
     ]
    }
   ],
   "source": [
    "adverserial_df = create_dataframe('adverserial')\n",
    "print(adverserial_df)"
   ]
  },
  {
   "cell_type": "code",
   "execution_count": 117,
   "metadata": {},
   "outputs": [],
   "source": [
    "#method to compare the different PEs by computing the cosine similarity\n",
    "\n",
    "def calculate_cosine_similarity(df1, df2):\n",
    "    similar_counts =[]\n",
    "    unsimilar_counts=[]\n",
    "    \n",
    "\n",
    "    for col in range(0, len(df1.columns)):\n",
    "        count_similar = 0\n",
    "        count_not_similar = 0\n",
    "        \n",
    "        #converting the values of array to integer to calculate cosine similarity\n",
    "        array1 = df1[col]        \n",
    "        for i in range(0, len(array1)): \n",
    "            array1[i] = int(eval(array1[i]))\n",
    "        \n",
    "        array2 = df2[col]        \n",
    "        for j in range(0, len(array2)): \n",
    "            array2[j] = int(eval(array2[j]))\n",
    "        \n",
    "        #calculating cosine_similarity\n",
    "        similarity = cosine_similarity(array1.values.reshape(-1,1), array2.values.reshape(-1,1))\n",
    "        for k in range (len(similarity)):\n",
    "            for l in range (len(similarity)):\n",
    "                if(k==l and similarity[k][l]==1):\n",
    "                    count_similar = count_similar + 1\n",
    "                elif(k==l and similarity[k][l]==0):\n",
    "                    count_not_similar = count_not_similar+1\n",
    "        similar_counts.append(count_similar)\n",
    "        unsimilar_counts.append(count_not_similar)\n",
    "    return(similar_counts, unsimilar_counts)"
   ]
  },
  {
   "cell_type": "code",
   "execution_count": 151,
   "metadata": {},
   "outputs": [],
   "source": [
    "#cosine similarity comparison between malicious before and adverserial data\n",
    "similar_counts, unsimilar_counts = calculate_cosine_similarity(malicious_df, adverserial_df)"
   ]
  },
  {
   "cell_type": "code",
   "execution_count": 118,
   "metadata": {},
   "outputs": [],
   "source": [
    "#method 2 to compare every two bit pair\n",
    "def compute_similarity (df1, df2):\n",
    "    unsimilar_bits = []\n",
    "    similar_bits =[]\n",
    "    for a in range(len(df1)):\n",
    "        similar_count = 0\n",
    "        unsimilar_count = 0\n",
    "        for b in range (len(df1.columns)):       \n",
    "            if df1.iloc[a][b] == df2.iloc[a][b]:\n",
    "                similar_count = similar_count+1\n",
    "            elif df1.iloc[a][b] != df2.iloc[a][b]:\n",
    "                unsimilar_count = unsimilar_count +1\n",
    "        similar_bits.append(similar_count)\n",
    "        unsimilar_bits.append(unsimilar_count)\n",
    "        \n",
    "    return(similar_bits , unsimilar_bits)"
   ]
  },
  {
   "cell_type": "code",
   "execution_count": 126,
   "metadata": {},
   "outputs": [],
   "source": [
    "  def visualization(list1, list2):\n",
    "    lst_pe = ['PE1', 'PE2','PE3','PE4','PE5','PE6','PE7','PE8','PE9','PE10']\n",
    "    \n",
    "    #plotting only similar bits\n",
    "    plt.bar(lst_pe, list1)\n",
    "    plt.show()\n",
    "    \n",
    "    #plotting only unsimilar bits\n",
    "    plt.bar(lst_pe, list2)\n",
    "    plt.show()\n",
    "    \n",
    "    #plotting the comparison\n",
    "    N = 10\n",
    "    ind = np.arange(N) \n",
    "    width = 0.35       \n",
    "    plt.bar(ind, list1, width, label='Similar Bits')\n",
    "    plt.bar(ind + width, list2, width,label='Unsimilar Bits')\n",
    "\n",
    "    plt.ylabel('Number of Bits per PE')\n",
    "    plt.title('Comparison between PEs')\n",
    "\n",
    "    plt.xticks(ind + width / 2, ('PE1', 'PE2','PE3','PE4','PE5','PE6','PE7','PE8','PE9','PE10' ))\n",
    "    plt.legend(loc='best')\n",
    "    plt.show()"
   ]
  },
  {
   "cell_type": "code",
   "execution_count": 130,
   "metadata": {},
   "outputs": [],
   "source": [
    "#comparison between benign and malicious data\n",
    "similar_bits , unsimilar_bits = compute_similarity(benign_df, malicious_df)"
   ]
  },
  {
   "cell_type": "code",
   "execution_count": 131,
   "metadata": {},
   "outputs": [
    {
     "name": "stdout",
     "output_type": "stream",
     "text": [
      "Malicious Vs Benign\n",
      "[22445, 22645, 22202, 22328, 22628, 22566, 22356, 22657, 22627, 22450]\n",
      "[316, 116, 559, 433, 133, 195, 405, 104, 134, 311]\n"
     ]
    }
   ],
   "source": [
    "print (\"Malicious Vs Benign\")\n",
    "print (similar_bits)\n",
    "print (unsimilar_bits)"
   ]
  },
  {
   "cell_type": "markdown",
   "metadata": {},
   "source": [
    "The visualization shows that the benign and malicious data are closely similar. "
   ]
  },
  {
   "cell_type": "code",
   "execution_count": 132,
   "metadata": {},
   "outputs": [
    {
     "data": {
      "image/png": "[encoded data removed]",
      "text/plain": [
       "<Figure size 432x288 with 1 Axes>"
      ]
     },
     "metadata": {
      "needs_background": "light"
     },
     "output_type": "display_data"
    },
    {
     "data": {
      "image/png": "[encoded data removed]",
      "text/plain": [
       "<Figure size 432x288 with 1 Axes>"
      ]
     },
     "metadata": {
      "needs_background": "light"
     },
     "output_type": "display_data"
    },
    {
     "data": {
      "image/png": "[encoded data removed]",
      "text/plain": [
       "<Figure size 432x288 with 1 Axes>"
      ]
     },
     "metadata": {
      "needs_background": "light"
     },
     "output_type": "display_data"
    }
   ],
   "source": [
    "visualization(similar_bits, unsimilar_bits)"
   ]
  },
  {
   "cell_type": "code",
   "execution_count": 133,
   "metadata": {},
   "outputs": [],
   "source": [
    "#comparison between malicious before and adverserial data\n",
    "similar_bits2 , unsimilar_bits2 = compute_similarity(malicious_df, adverserial_df)"
   ]
  },
  {
   "cell_type": "code",
   "execution_count": 134,
   "metadata": {},
   "outputs": [
    {
     "name": "stdout",
     "output_type": "stream",
     "text": [
      "Malicious Vs Adverserial\n",
      "[13905, 16742, 20437, 21799, 22617, 22551, 22538, 22588, 22607, 22584]\n",
      "[8856, 6019, 2324, 962, 144, 210, 223, 173, 154, 177]\n"
     ]
    }
   ],
   "source": [
    "print (\"Malicious Vs Adverserial\")\n",
    "print (similar_bits2)\n",
    "print (unsimilar_bits2)"
   ]
  },
  {
   "cell_type": "code",
   "execution_count": 135,
   "metadata": {},
   "outputs": [
    {
     "data": {
      "image/png": "[encoded data removed]",
      "text/plain": [
       "<Figure size 432x288 with 1 Axes>"
      ]
     },
     "metadata": {
      "needs_background": "light"
     },
     "output_type": "display_data"
    },
    {
     "data": {
      "image/png": "[encoded data removed]",
      "text/plain": [
       "<Figure size 432x288 with 1 Axes>"
      ]
     },
     "metadata": {
      "needs_background": "light"
     },
     "output_type": "display_data"
    },
    {
     "data": {
      "image/png": "[encoded data removed]",
      "text/plain": [
       "<Figure size 432x288 with 1 Axes>"
      ]
     },
     "metadata": {
      "needs_background": "light"
     },
     "output_type": "display_data"
    }
   ],
   "source": [
    "visualization(similar_bits2, unsimilar_bits2)"
   ]
  },
  {
   "cell_type": "code",
   "execution_count": 136,
   "metadata": {},
   "outputs": [],
   "source": [
    "#dataframes for the data after 50 epochs events\n",
    "benign_dfepochs = create_dataframe('benign_epochs')\n",
    "malicious_dfepochs = create_dataframe('malicious-before_epochs')\n",
    "adverserial_dfepochs = create_dataframe('adverserial_epochs')"
   ]
  },
  {
   "cell_type": "code",
   "execution_count": 137,
   "metadata": {},
   "outputs": [
    {
     "name": "stdout",
     "output_type": "stream",
     "text": [
      "  0     1     2     3     4     5     6     7     8     9      ... 22751  \\\n",
      "0   0.0   0.0   0.0   0.0   0.0   0.0   0.0   0.0   1.0   0.0  ...   0.0   \n",
      "1   0.0   0.0   0.0   0.0   0.0   0.0   0.0   0.0   1.0   0.0  ...   0.0   \n",
      "2   0.0   0.0   0.0   0.0   0.0   0.0   0.0   0.0   1.0   0.0  ...   0.0   \n",
      "3   1.0   0.0   0.0   0.0   0.0   0.0   0.0   0.0   1.0   0.0  ...   0.0   \n",
      "4   0.0   0.0   0.0   0.0   0.0   0.0   0.0   0.0   1.0   0.0  ...   0.0   \n",
      "5   0.0   0.0   0.0   0.0   0.0   0.0   0.0   0.0   1.0   0.0  ...   0.0   \n",
      "6   1.0   1.0   0.0   0.0   0.0   0.0   0.0   0.0   1.0   0.0  ...   0.0   \n",
      "7   1.0   0.0   0.0   0.0   0.0   0.0   0.0   0.0   1.0   0.0  ...   0.0   \n",
      "8   0.0   0.0   0.0   0.0   0.0   0.0   0.0   0.0   1.0   0.0  ...   0.0   \n",
      "9   0.0   0.0   0.0   0.0   0.0   0.0   0.0   0.0   1.0   0.0  ...   0.0   \n",
      "\n",
      "  22752 22753 22754 22755 22756 22757 22758 22759 22760  \n",
      "0   0.0   0.0   0.0   0.0   0.0   0.0   0.0   0.0   0.0  \n",
      "1   0.0   0.0   0.0   0.0   0.0   0.0   0.0   0.0   0.0  \n",
      "2   0.0   0.0   0.0   0.0   0.0   0.0   0.0   0.0   0.0  \n",
      "3   0.0   0.0   0.0   0.0   0.0   0.0   0.0   0.0   0.0  \n",
      "4   0.0   0.0   0.0   0.0   0.0   0.0   0.0   0.0   0.0  \n",
      "5   0.0   0.0   0.0   0.0   0.0   0.0   0.0   0.0   0.0  \n",
      "6   0.0   0.0   0.0   0.0   0.0   0.0   0.0   0.0   0.0  \n",
      "7   0.0   0.0   0.0   0.0   0.0   0.0   0.0   0.0   0.0  \n",
      "8   0.0   0.0   0.0   0.0   0.0   0.0   0.0   0.0   0.0  \n",
      "9   0.0   0.0   0.0   0.0   0.0   0.0   0.0   0.0   0.0  \n",
      "\n",
      "[10 rows x 22761 columns]\n"
     ]
    }
   ],
   "source": [
    "print(benign_dfepochs)"
   ]
  },
  {
   "cell_type": "code",
   "execution_count": 138,
   "metadata": {},
   "outputs": [
    {
     "name": "stdout",
     "output_type": "stream",
     "text": [
      "  0     1     2     3     4     5     6     7     8     9      ... 22751  \\\n",
      "0   0.0   0.0   0.0   0.0   0.0   0.0   0.0   0.0   1.0   0.0  ...   0.0   \n",
      "1   1.0   1.0   0.0   0.0   0.0   0.0   0.0   0.0   1.0   0.0  ...   0.0   \n",
      "2   0.0   0.0   0.0   0.0   0.0   0.0   0.0   0.0   1.0   0.0  ...   0.0   \n",
      "3   0.0   0.0   0.0   0.0   0.0   0.0   0.0   0.0   1.0   0.0  ...   0.0   \n",
      "4   1.0   0.0   0.0   0.0   0.0   0.0   0.0   1.0   1.0   0.0  ...   0.0   \n",
      "5   0.0   0.0   0.0   0.0   0.0   0.0   0.0   0.0   0.0   0.0  ...   0.0   \n",
      "6   1.0   1.0   1.0   1.0   1.0   1.0   1.0   1.0   1.0   1.0  ...   0.0   \n",
      "7   0.0   0.0   0.0   0.0   0.0   0.0   0.0   0.0   1.0   0.0  ...   0.0   \n",
      "8   0.0   0.0   1.0   1.0   1.0   0.0   1.0   0.0   0.0   0.0  ...   0.0   \n",
      "9   0.0   0.0   0.0   0.0   0.0   0.0   0.0   0.0   1.0   0.0  ...   0.0   \n",
      "\n",
      "  22752 22753 22754 22755 22756 22757 22758 22759 22760  \n",
      "0   0.0   0.0   0.0   0.0   0.0   0.0   0.0   0.0   0.0  \n",
      "1   0.0   0.0   0.0   0.0   0.0   0.0   0.0   0.0   0.0  \n",
      "2   0.0   0.0   0.0   0.0   0.0   0.0   0.0   0.0   0.0  \n",
      "3   0.0   0.0   0.0   0.0   0.0   0.0   0.0   0.0   0.0  \n",
      "4   0.0   0.0   0.0   0.0   0.0   0.0   0.0   0.0   0.0  \n",
      "5   0.0   0.0   0.0   0.0   0.0   0.0   0.0   0.0   0.0  \n",
      "6   0.0   0.0   0.0   0.0   0.0   0.0   0.0   0.0   0.0  \n",
      "7   0.0   0.0   0.0   0.0   0.0   0.0   0.0   0.0   0.0  \n",
      "8   0.0   0.0   0.0   0.0   0.0   0.0   0.0   0.0   0.0  \n",
      "9   0.0   0.0   0.0   0.0   0.0   0.0   0.0   0.0   0.0  \n",
      "\n",
      "[10 rows x 22761 columns]\n"
     ]
    }
   ],
   "source": [
    "print(malicious_dfepochs)"
   ]
  },
  {
   "cell_type": "code",
   "execution_count": 139,
   "metadata": {},
   "outputs": [
    {
     "name": "stdout",
     "output_type": "stream",
     "text": [
      "  0     1     2     3     4     5     6     7     8     9      ... 22751  \\\n",
      "0   0.0   0.0   0.0   0.0   0.0   0.0   0.0   0.0   1.0   0.0  ...   0.0   \n",
      "1   1.0   1.0   0.0   0.0   0.0   0.0   0.0   0.0   1.0   0.0  ...   0.0   \n",
      "2   0.0   0.0   0.0   0.0   0.0   0.0   0.0   0.0   1.0   0.0  ...   0.0   \n",
      "3   0.0   0.0   0.0   0.0   0.0   0.0   0.0   0.0   1.0   0.0  ...   0.0   \n",
      "4   1.0   0.0   0.0   0.0   0.0   0.0   0.0   1.0   1.0   0.0  ...   0.0   \n",
      "5   1.0   0.0   0.0   0.0   0.0   0.0   0.0   0.0   1.0   0.0  ...   0.0   \n",
      "6   1.0   1.0   1.0   1.0   1.0   1.0   1.0   1.0   1.0   1.0  ...   0.0   \n",
      "7   0.0   0.0   0.0   0.0   0.0   0.0   0.0   0.0   1.0   0.0  ...   0.0   \n",
      "8   0.0   0.0   1.0   1.0   1.0   0.0   1.0   0.0   0.0   0.0  ...   0.0   \n",
      "9   0.0   0.0   0.0   0.0   0.0   0.0   0.0   0.0   1.0   0.0  ...   0.0   \n",
      "\n",
      "  22752 22753 22754 22755 22756 22757 22758 22759 22760  \n",
      "0   0.0   0.0   0.0   0.0   0.0   0.0   0.0   0.0   0.0  \n",
      "1   0.0   0.0   0.0   0.0   0.0   0.0   0.0   0.0   0.0  \n",
      "2   0.0   0.0   0.0   0.0   0.0   0.0   0.0   0.0   0.0  \n",
      "3   0.0   0.0   0.0   0.0   0.0   0.0   0.0   0.0   0.0  \n",
      "4   0.0   0.0   0.0   0.0   0.0   0.0   0.0   0.0   0.0  \n",
      "5   0.0   0.0   0.0   0.0   0.0   0.0   0.0   0.0   0.0  \n",
      "6   0.0   0.0   0.0   0.0   0.0   0.0   0.0   0.0   0.0  \n",
      "7   0.0   0.0   0.0   0.0   0.0   0.0   0.0   0.0   0.0  \n",
      "8   0.0   0.0   0.0   0.0   0.0   0.0   0.0   0.0   0.0  \n",
      "9   0.0   0.0   0.0   0.0   0.0   0.0   0.0   0.0   0.0  \n",
      "\n",
      "[10 rows x 22761 columns]\n"
     ]
    }
   ],
   "source": [
    "print(adverserial_dfepochs)"
   ]
  },
  {
   "cell_type": "code",
   "execution_count": 148,
   "metadata": {},
   "outputs": [],
   "source": [
    "#cosine similarity comparison between malicious before and adverserial data\n",
    "similar_counts, unsimilar_counts = calculate_cosine_similarity(malicious_dfepochs, adverserial_dfepochs)"
   ]
  },
  {
   "cell_type": "code",
   "execution_count": 140,
   "metadata": {},
   "outputs": [],
   "source": [
    "#comparison 3 between benign and adverserial data after executing 50 epochs\n",
    "similar_bits3,unsimilar_bits3 = compute_similarity (benign_dfepochs, adverserial_dfepochs)"
   ]
  },
  {
   "cell_type": "code",
   "execution_count": 141,
   "metadata": {},
   "outputs": [
    {
     "name": "stdout",
     "output_type": "stream",
     "text": [
      "Benign Vs Adverserial after epochs\n",
      "[22729, 22595, 22396, 22322, 22659, 22651, 22604, 22643, 21951, 22644]\n",
      "[32, 166, 365, 439, 102, 110, 157, 118, 810, 117]\n"
     ]
    }
   ],
   "source": [
    "print (\"Benign Vs Adverserial after epochs\")\n",
    "print (similar_bits3)\n",
    "print (unsimilar_bits3)"
   ]
  },
  {
   "cell_type": "code",
   "execution_count": 142,
   "metadata": {},
   "outputs": [
    {
     "data": {
      "image/png": "[encoded data removed]",
      "text/plain": [
       "<Figure size 432x288 with 1 Axes>"
      ]
     },
     "metadata": {
      "needs_background": "light"
     },
     "output_type": "display_data"
    },
    {
     "data": {
      "image/png": "[encoded data removed]",
      "text/plain": [
       "<Figure size 432x288 with 1 Axes>"
      ]
     },
     "metadata": {
      "needs_background": "light"
     },
     "output_type": "display_data"
    },
    {
     "data": {
      "image/png": "[encoded data removed]",
      "text/plain": [
       "<Figure size 432x288 with 1 Axes>"
      ]
     },
     "metadata": {
      "needs_background": "light"
     },
     "output_type": "display_data"
    }
   ],
   "source": [
    "visualization(similar_bits3, unsimilar_bits3)"
   ]
  },
  {
   "cell_type": "code",
   "execution_count": 143,
   "metadata": {},
   "outputs": [],
   "source": [
    "#comparison 4 between malicious before and adverserial data after executing 50 epochs\n",
    "similar_bits4,unsimilar_bits4 = compute_similarity (malicious_dfepochs, adverserial_dfepochs)"
   ]
  },
  {
   "cell_type": "code",
   "execution_count": 144,
   "metadata": {},
   "outputs": [
    {
     "name": "stdout",
     "output_type": "stream",
     "text": [
      "Malicious Vs Adverserial after epochs\n",
      "[22761, 22761, 22741, 22761, 22761, 22723, 22761, 22761, 22761, 22744]\n",
      "[0, 0, 20, 0, 0, 38, 0, 0, 0, 17]\n"
     ]
    }
   ],
   "source": [
    "print (\"Malicious Vs Adverserial after epochs\")\n",
    "print (similar_bits4)\n",
    "print (unsimilar_bits4)"
   ]
  },
  {
   "cell_type": "code",
   "execution_count": 145,
   "metadata": {},
   "outputs": [
    {
     "data": {
      "image/png": "[encoded data removed]",
      "text/plain": [
       "<Figure size 432x288 with 1 Axes>"
      ]
     },
     "metadata": {
      "needs_background": "light"
     },
     "output_type": "display_data"
    },
    {
     "data": {
      "image/png": "[encoded data removed]",
      "text/plain": [
       "<Figure size 432x288 with 1 Axes>"
      ]
     },
     "metadata": {
      "needs_background": "light"
     },
     "output_type": "display_data"
    },
    {
     "data": {
      "image/png": "[encoded data removed]",
      "text/plain": [
       "<Figure size 432x288 with 1 Axes>"
      ]
     },
     "metadata": {
      "needs_background": "light"
     },
     "output_type": "display_data"
    }
   ],
   "source": [
    "visualization(similar_bits4, unsimilar_bits4)"
   ]
  }
 ],
 "metadata": {
  "kernelspec": {
   "display_name": "Python 3",
   "language": "python",
   "name": "python3"
  },
  "language_info": {
   "codemirror_mode": {
    "name": "ipython",
    "version": 3
   },
   "file_extension": ".py",
   "mimetype": "text/x-python",
   "name": "python",
   "nbconvert_exporter": "python",
   "pygments_lexer": "ipython3",
   "version": "3.7.4"
  }
 },
 "nbformat": 4,
 "nbformat_minor": 2
}
